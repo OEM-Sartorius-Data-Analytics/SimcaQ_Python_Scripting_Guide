{
 "cells": [
  {
   "cell_type": "markdown",
   "id": "1c199464-fd50-4218-a32a-bd9fb583d059",
   "metadata": {},
   "source": [
    "# Making Predictions: An Example Using the Beer Dataset\n",
    "\n",
    "We will go through the proccess for predicting Y quantities with SIMCA-Q.\n",
    "\n",
    "We will use a SIMCA project where two OPLS models have been built using the BEER dataset typically used in SIMCA courses. The picture below shows the initial observations and variables of the original dataset used in this project:"
   ]
  },
  {
   "cell_type": "markdown",
   "id": "238e1ab9-6e16-4020-8e83-f60ec1829828",
   "metadata": {},
   "source": [
    "![Original Dataset](Images/Dataset1.jpg)"
   ]
  },
  {
   "cell_type": "markdown",
   "id": "4d460513-5ba5-40ce-be28-1702eb551166",
   "metadata": {},
   "source": [
    "<img src=\"Images/Dataset1.jpg\">"
   ]
  },
  {
   "cell_type": "markdown",
   "id": "984c9a90-4a55-4351-9dd8-064bffaf291c",
   "metadata": {},
   "source": [
    "<img src=\"https://github.com/OEM-Sartorius-Data-Analytics/SimcaQ_Python_Scripting_Guide/tree/main/06_PredictionInterface_1/Images/Dataset1.png\">"
   ]
  },
  {
   "cell_type": "markdown",
   "id": "0be66167-cf50-40f7-b492-035d018b80ba",
   "metadata": {},
   "source": [
    "<img src=\"Images/Dataset1.png\" />"
   ]
  },
  {
   "cell_type": "code",
   "execution_count": null,
   "id": "f4a56bbc-afd2-45c0-9757-78528632cff6",
   "metadata": {},
   "outputs": [],
   "source": []
  },
  {
   "cell_type": "code",
   "execution_count": null,
   "id": "35218747-3fe6-47c3-8ec3-b8538a405195",
   "metadata": {},
   "outputs": [],
   "source": []
  },
  {
   "cell_type": "code",
   "execution_count": null,
   "id": "3f6aaca3-6335-443f-9d51-781b02cd69c2",
   "metadata": {},
   "outputs": [],
   "source": []
  }
 ],
 "metadata": {
  "kernelspec": {
   "display_name": "Python 3 (ipykernel)",
   "language": "python",
   "name": "python3"
  },
  "language_info": {
   "codemirror_mode": {
    "name": "ipython",
    "version": 3
   },
   "file_extension": ".py",
   "mimetype": "text/x-python",
   "name": "python",
   "nbconvert_exporter": "python",
   "pygments_lexer": "ipython3",
   "version": "3.10.4"
  }
 },
 "nbformat": 4,
 "nbformat_minor": 5
}
