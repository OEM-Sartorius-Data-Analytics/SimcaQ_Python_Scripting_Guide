{
 "cells": [
  {
   "cell_type": "markdown",
   "id": "1c199464-fd50-4218-a32a-bd9fb583d059",
   "metadata": {},
   "source": [
    "# Making Predictions: An Example Using the Beer Dataset\n",
    "\n",
    "We will go through the proccess for predicting Y quantities with SIMCA-Q.\n",
    "\n",
    "We will use a SIMCA project where two OPLS models have been built using the BEER dataset typically used in SIMCA courses. The picture below shows the initial observations and variables of the original dataset used in this project:"
   ]
  },
  {
   "cell_type": "markdown",
   "id": "238e1ab9-6e16-4020-8e83-f60ec1829828",
   "metadata": {},
   "source": [
    "![Original Dataset](Images/Dataset1.png)"
   ]
  },
  {
   "cell_type": "markdown",
   "id": "67f6da92-a7ce-4dbf-a57b-feaa8598d213",
   "metadata": {},
   "source": [
    "This SIMCA file is available from this [repository folder](https://github.com/OEM-Sartorius-Data-Analytics/SimcaQ_Python_Scripting_Guide/tree/main/06_PredictionInterface_1) as *BEER_NIR_alcohol_example.usp*.\n",
    "\n",
    "The SIMCA project file has two OPLS models, both predicting the alcohol content:"
   ]
  },
  {
   "cell_type": "markdown",
   "id": "7bb39c84-3d2a-49d7-84df-6295b0f8f52f",
   "metadata": {},
   "source": [
    "![Models](Images/Models.png)"
   ]
  },
  {
   "cell_type": "markdown",
   "id": "772fbb24-3c9d-4ee0-a1eb-c5675c5883ad",
   "metadata": {},
   "source": [
    "We will show in this example how to predict the alcohol content of a spectrum not used to build the model. This spectrum will be in a csv format with two rows, one for the variable names and one for the variable values. When opened in Excel it looks like:"
   ]
  },
  {
   "cell_type": "markdown",
   "id": "728d30e6-2c93-4b3d-9783-455c673d417b",
   "metadata": {},
   "source": [
    "![Spectrum](Images/InputFile.png)"
   ]
  },
  {
   "cell_type": "markdown",
   "id": "825a79f6-66b4-4ae0-8848-e0126451f617",
   "metadata": {},
   "source": [
    "This csv file is available from this repository folder as [predictionDataFile2.csv](predictionDataFile2.csv)."
   ]
  },
  {
   "cell_type": "markdown",
   "id": "5d253b6f-3efc-4fe6-9580-69e35b9254fe",
   "metadata": {
    "tags": []
   },
   "source": [
    "## Accessing the SIMCA-Q COM Interface"
   ]
  },
  {
   "cell_type": "markdown",
   "id": "a5cd4f5c-e707-4147-b385-bd57eeda52e1",
   "metadata": {},
   "source": [
    "We will first need to access the SIMCA-Q COM interface. For this we will follow the [approach detailed in the guide](https://github.com/OEM-Sartorius-Data-Analytics/SimcaQ_Python_Scripting_Guide/blob/main/00_COM_and_License/COM_and_License.md)"
   ]
  },
  {
   "cell_type": "code",
   "execution_count": 1,
   "id": "b965fc53-1a6b-4137-9e89-6efebcc2caeb",
   "metadata": {},
   "outputs": [],
   "source": [
    "def dispatch(app_name:str):\n",
    "    try:\n",
    "        from win32com import client\n",
    "        app = client.gencache.EnsureDispatch(app_name)\n",
    "    except AttributeError:\n",
    "        # Corner case dependencies.\n",
    "        import os\n",
    "        import re\n",
    "        import sys\n",
    "        import shutil\n",
    "        # Remove cache and try again.\n",
    "        MODULE_LIST = [m.__name__ for m in sys.modules.values()]\n",
    "        for module in MODULE_LIST:\n",
    "            if re.match(r'win32com\\.gen_py\\..+', module):\n",
    "                del sys.modules[module]\n",
    "        shutil.rmtree(os.path.join(os.environ.get('LOCALAPPDATA'), 'Temp', 'gen_py'))\n",
    "        from win32com import client\n",
    "        app = client.gencache.EnsureDispatch(app_name)\n",
    "    return app"
   ]
  },
  {
   "cell_type": "code",
   "execution_count": 2,
   "id": "fa301a06-d495-451d-b722-6162160062e0",
   "metadata": {},
   "outputs": [],
   "source": [
    "simcaq = dispatch('Umetrics.SIMCAQ')"
   ]
  },
  {
   "cell_type": "markdown",
   "id": "410a4ee7-589b-40d5-ad30-e4f7616aa1f8",
   "metadata": {},
   "source": [
    "If we print the variable *simcaq* we can see that it is an *ISIMCAQ* object:"
   ]
  },
  {
   "cell_type": "code",
   "execution_count": 3,
   "id": "65fbb827-c66e-4c58-bf0e-8f7108729347",
   "metadata": {},
   "outputs": [
    {
     "name": "stdout",
     "output_type": "stream",
     "text": [
      "<win32com.gen_py.SIMCA-Q 17 Type Library.ISIMCAQ instance at 0x1884703914736>\n"
     ]
    }
   ],
   "source": [
    "print(simcaq)"
   ]
  },
  {
   "cell_type": "code",
   "execution_count": null,
   "id": "f1164a88-6cf5-49e8-a77c-e1657dbd9fcb",
   "metadata": {},
   "outputs": [],
   "source": []
  },
  {
   "cell_type": "code",
   "execution_count": null,
   "id": "ce722336-b77d-4e95-9e93-2b078b2a8a8f",
   "metadata": {},
   "outputs": [],
   "source": []
  },
  {
   "cell_type": "code",
   "execution_count": null,
   "id": "4479cfad-3a1a-41a5-b62d-502514d474ae",
   "metadata": {},
   "outputs": [],
   "source": []
  },
  {
   "cell_type": "code",
   "execution_count": null,
   "id": "78fb0217-2d1b-4d81-8443-9390cf954a2f",
   "metadata": {},
   "outputs": [],
   "source": []
  }
 ],
 "metadata": {
  "kernelspec": {
   "display_name": "Python 3 (ipykernel)",
   "language": "python",
   "name": "python3"
  },
  "language_info": {
   "codemirror_mode": {
    "name": "ipython",
    "version": 3
   },
   "file_extension": ".py",
   "mimetype": "text/x-python",
   "name": "python",
   "nbconvert_exporter": "python",
   "pygments_lexer": "ipython3",
   "version": "3.10.4"
  }
 },
 "nbformat": 4,
 "nbformat_minor": 5
}
