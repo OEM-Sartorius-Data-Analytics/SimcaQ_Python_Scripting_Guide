{
 "cells": [
  {
   "cell_type": "markdown",
   "id": "1c199464-fd50-4218-a32a-bd9fb583d059",
   "metadata": {},
   "source": [
    "# Making Predictions: An Example Using the Beer Dataset\n",
    "\n",
    "We will go through the proccess for predicting Y quantities with SIMCA-Q.\n",
    "\n",
    "We will use a SIMCA project where two OPLS models have been built using the BEER dataset typically used in SIMCA courses. The picture below shows the initial observations and variables of the original dataset used in this project:"
   ]
  },
  {
   "cell_type": "markdown",
   "id": "238e1ab9-6e16-4020-8e83-f60ec1829828",
   "metadata": {},
   "source": [
    "![Original Dataset](Dataset1.png)"
   ]
  },
  {
   "cell_type": "markdown",
   "id": "67f6da92-a7ce-4dbf-a57b-feaa8598d213",
   "metadata": {},
   "source": [
    "The SIMCA project file has two OPLS models, both predicting the alcohol content:"
   ]
  },
  {
   "cell_type": "markdown",
   "id": "7bb39c84-3d2a-49d7-84df-6295b0f8f52f",
   "metadata": {},
   "source": [
    "![Models](Images/Models.png)"
   ]
  },
  {
   "cell_type": "code",
   "execution_count": null,
   "id": "3f6aaca3-6335-443f-9d51-781b02cd69c2",
   "metadata": {},
   "outputs": [],
   "source": []
  }
 ],
 "metadata": {
  "kernelspec": {
   "display_name": "Python 3 (ipykernel)",
   "language": "python",
   "name": "python3"
  },
  "language_info": {
   "codemirror_mode": {
    "name": "ipython",
    "version": 3
   },
   "file_extension": ".py",
   "mimetype": "text/x-python",
   "name": "python",
   "nbconvert_exporter": "python",
   "pygments_lexer": "ipython3",
   "version": "3.10.4"
  }
 },
 "nbformat": 4,
 "nbformat_minor": 5
}
