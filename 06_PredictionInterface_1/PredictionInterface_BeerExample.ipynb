{
 "cells": [
  {
   "cell_type": "markdown",
   "id": "1c199464-fd50-4218-a32a-bd9fb583d059",
   "metadata": {},
   "source": [
    "# Making Predictions: An Example Using the Beer Dataset\n",
    "\n",
    "We will go through the proccess for predicting Y quantities with SIMCA-Q.\n",
    "\n",
    "We will use a SIMCA project where two OPLS models have been built using the BEER dataset typically used in SIMCA courses. The picture below shows the initial observations and variables of the original dataset used in this project:"
   ]
  },
  {
   "cell_type": "markdown",
   "id": "238e1ab9-6e16-4020-8e83-f60ec1829828",
   "metadata": {},
   "source": [
    "![Original Dataset](Images/Dataset1.png)"
   ]
  },
  {
   "cell_type": "markdown",
   "id": "67f6da92-a7ce-4dbf-a57b-feaa8598d213",
   "metadata": {},
   "source": [
    "This SIMCA file is available from this [repository folder](https://github.com/OEM-Sartorius-Data-Analytics/SimcaQ_Python_Scripting_Guide/tree/main/06_PredictionInterface_1) as *BEER_NIR_alcohol_example.usp*.\n",
    "\n",
    "The SIMCA project file has two OPLS models, both predicting the alcohol content:"
   ]
  },
  {
   "cell_type": "markdown",
   "id": "7bb39c84-3d2a-49d7-84df-6295b0f8f52f",
   "metadata": {},
   "source": [
    "![Models](Images/Models.png)"
   ]
  },
  {
   "cell_type": "markdown",
   "id": "772fbb24-3c9d-4ee0-a1eb-c5675c5883ad",
   "metadata": {},
   "source": [
    "We will show in this example how to predict the alcohol content of a spectrum not used to build the model. This spectrum will be in a csv format with two rows, one for the variable names and one for the variable values. When opened in Excel it looks like:"
   ]
  },
  {
   "cell_type": "markdown",
   "id": "728d30e6-2c93-4b3d-9783-455c673d417b",
   "metadata": {},
   "source": [
    "![Spectrum](Images/InputFile.png)"
   ]
  },
  {
   "cell_type": "markdown",
   "id": "825a79f6-66b4-4ae0-8848-e0126451f617",
   "metadata": {},
   "source": [
    "This csv file is available from this repository folder as [predictionDataFile2.csv](predictionDataFile2.csv)."
   ]
  },
  {
   "cell_type": "markdown",
   "id": "5d253b6f-3efc-4fe6-9580-69e35b9254fe",
   "metadata": {
    "tags": []
   },
   "source": [
    "## Accessing the SIMCA-Q COM Interface"
   ]
  },
  {
   "cell_type": "markdown",
   "id": "a5cd4f5c-e707-4147-b385-bd57eeda52e1",
   "metadata": {},
   "source": [
    "We will first need to access the SIMCA-Q COM interface. For this we will follow the [approach detailed in the guide](https://github.com/OEM-Sartorius-Data-Analytics/SimcaQ_Python_Scripting_Guide/blob/main/00_COM_and_License/COM_and_License.md)"
   ]
  },
  {
   "cell_type": "code",
   "execution_count": 1,
   "id": "b965fc53-1a6b-4137-9e89-6efebcc2caeb",
   "metadata": {},
   "outputs": [],
   "source": [
    "def dispatch(app_name:str):\n",
    "    try:\n",
    "        from win32com import client\n",
    "        app = client.gencache.EnsureDispatch(app_name)\n",
    "    except AttributeError:\n",
    "        # Corner case dependencies.\n",
    "        import os\n",
    "        import re\n",
    "        import sys\n",
    "        import shutil\n",
    "        # Remove cache and try again.\n",
    "        MODULE_LIST = [m.__name__ for m in sys.modules.values()]\n",
    "        for module in MODULE_LIST:\n",
    "            if re.match(r'win32com\\.gen_py\\..+', module):\n",
    "                del sys.modules[module]\n",
    "        shutil.rmtree(os.path.join(os.environ.get('LOCALAPPDATA'), 'Temp', 'gen_py'))\n",
    "        from win32com import client\n",
    "        app = client.gencache.EnsureDispatch(app_name)\n",
    "    return app"
   ]
  },
  {
   "cell_type": "code",
   "execution_count": 2,
   "id": "fa301a06-d495-451d-b722-6162160062e0",
   "metadata": {},
   "outputs": [],
   "source": [
    "simcaq = dispatch('Umetrics.SIMCAQ')"
   ]
  },
  {
   "cell_type": "markdown",
   "id": "410a4ee7-589b-40d5-ad30-e4f7616aa1f8",
   "metadata": {},
   "source": [
    "If we print the variable *simcaq* we can see that it is an *ISIMCAQ* object:"
   ]
  },
  {
   "cell_type": "code",
   "execution_count": 3,
   "id": "65fbb827-c66e-4c58-bf0e-8f7108729347",
   "metadata": {},
   "outputs": [
    {
     "name": "stdout",
     "output_type": "stream",
     "text": [
      "<win32com.gen_py.SIMCA-Q 17 Type Library.ISIMCAQ instance at 0x2586404765024>\n"
     ]
    }
   ],
   "source": [
    "print(simcaq)"
   ]
  },
  {
   "cell_type": "markdown",
   "id": "3aadebb2-2b29-4c6b-8ea5-f5fb728177d2",
   "metadata": {},
   "source": [
    "## Opening the SIMCA Project"
   ]
  },
  {
   "cell_type": "markdown",
   "id": "1875e466-a8a4-4c50-9fec-b8bd26e200c7",
   "metadata": {},
   "source": [
    "We can use the *ISIMCAQ* method *OpenProject()* to open the SIMCA Project *BEER_NIR_alcohol_example.usp*:"
   ]
  },
  {
   "cell_type": "code",
   "execution_count": 4,
   "id": "4479cfad-3a1a-41a5-b62d-502514d474ae",
   "metadata": {},
   "outputs": [],
   "source": [
    "pathSimcaProject = 'BEER_NIR_alcohol_example.usp'\n",
    "project = simcaq.OpenProject(pathSimcaProject, \"\")"
   ]
  },
  {
   "cell_type": "markdown",
   "id": "52f597a1-45b7-4ce3-988c-53af58f1485d",
   "metadata": {},
   "source": [
    "If we print the variable *project* we can see that it is an *IProject* object:"
   ]
  },
  {
   "cell_type": "code",
   "execution_count": 5,
   "id": "38caf521-767b-4e14-bcf4-d8bf284b18c0",
   "metadata": {},
   "outputs": [
    {
     "name": "stdout",
     "output_type": "stream",
     "text": [
      "<win32com.gen_py.SIMCA-Q 17 Type Library.IProject instance at 0x2586404599120>\n"
     ]
    }
   ],
   "source": [
    "print(project)"
   ]
  },
  {
   "cell_type": "markdown",
   "id": "28508872-e9ec-4499-bc06-0f4c69947269",
   "metadata": {},
   "source": [
    "As [discussed](https://github.com/OEM-Sartorius-Data-Analytics/SimcaQ_Python_Scripting_Guide/blob/main/01_ProjectInterface/ExploreProjectInterface.md), we can retrieve different attributes of the project straigtht away from this object.\n",
    "\n",
    "For instance, the name of the project:"
   ]
  },
  {
   "cell_type": "code",
   "execution_count": 6,
   "id": "4df29644-b337-4342-95cd-76b7cb0f1acd",
   "metadata": {},
   "outputs": [
    {
     "name": "stdout",
     "output_type": "stream",
     "text": [
      "BEER_NIR_alcohol_example\n"
     ]
    }
   ],
   "source": [
    "projectName = project.GetProjectName() \n",
    "print(projectName)"
   ]
  },
  {
   "cell_type": "markdown",
   "id": "2aac92bd-c99e-4e6e-94f8-817e3bae9d1e",
   "metadata": {},
   "source": [
    "The number of models within the project:"
   ]
  },
  {
   "cell_type": "code",
   "execution_count": 7,
   "id": "3eb7c15a-0e35-4817-b58a-b2001a81a251",
   "metadata": {},
   "outputs": [
    {
     "name": "stdout",
     "output_type": "stream",
     "text": [
      "2\n"
     ]
    }
   ],
   "source": [
    "numberModels = project.GetNumberOfModels()\n",
    "print(numberModels)"
   ]
  },
  {
   "cell_type": "markdown",
   "id": "5ae32e75-8b98-46e1-a890-2bfc074661e7",
   "metadata": {},
   "source": [
    "The number of datasets:"
   ]
  },
  {
   "cell_type": "code",
   "execution_count": 8,
   "id": "9c3a3d22-c467-49f4-a838-af5cb85e5d89",
   "metadata": {},
   "outputs": [
    {
     "name": "stdout",
     "output_type": "stream",
     "text": [
      "2\n"
     ]
    }
   ],
   "source": [
    "numberDatasets = project.GetNumberOfDatasets()\n",
    "print(numberDatasets)"
   ]
  },
  {
   "cell_type": "markdown",
   "id": "debe8285-19fb-41ab-9450-a547ca5e71cb",
   "metadata": {},
   "source": [
    "The project has indeed two databases, the one shown above and another one containing the 1st derivative of the spectra, which was used to build the second model:"
   ]
  },
  {
   "cell_type": "markdown",
   "id": "f11da24b-f010-4537-a32b-dca49a6a7834",
   "metadata": {},
   "source": [
    "![1st Derivative Dataset](Images/Dataset2.png)"
   ]
  },
  {
   "cell_type": "markdown",
   "id": "94e59692-e012-4920-b7ab-ae7ec0ea5d3b",
   "metadata": {},
   "source": [
    "## Accessing a Model"
   ]
  },
  {
   "cell_type": "markdown",
   "id": "ddbb7e90-7390-423b-9d97-bb0a9e67ff79",
   "metadata": {},
   "source": [
    "As [discussed](https://github.com/OEM-Sartorius-Data-Analytics/SimcaQ_Python_Scripting_Guide/blob/main/04_ModelInterface_0/ModelInterface_Introduction.md), we can access models by using the *IProject* method *GetModel()*, which receives as an input parameter.\n",
    "\n",
    "In the example below we retrieve handles for all the models in the project and store them in a list"
   ]
  },
  {
   "cell_type": "code",
   "execution_count": 9,
   "id": "2aca2640-b154-4034-ac7e-21672c853e1e",
   "metadata": {},
   "outputs": [],
   "source": [
    "oModelList = []\n",
    "for iModel in range(1,numberModels+1):\n",
    "    modelNumber = project.GetModelNumberFromIndex(iModel)\n",
    "    oModelList.append(project.GetModel(modelNumber))"
   ]
  },
  {
   "cell_type": "markdown",
   "id": "fa62d91f-4921-439b-a964-b3a716473f79",
   "metadata": {},
   "source": [
    "We can check that effectively this created a list of *IModel* objects:"
   ]
  },
  {
   "cell_type": "code",
   "execution_count": 10,
   "id": "4972d7ff-409f-4839-baf9-e06e906f7061",
   "metadata": {},
   "outputs": [
    {
     "name": "stdout",
     "output_type": "stream",
     "text": [
      "<win32com.gen_py.SIMCA-Q 17 Type Library.IModel instance at 0x2586405642224>\n",
      "<win32com.gen_py.SIMCA-Q 17 Type Library.IModel instance at 0x2586405639056>\n"
     ]
    }
   ],
   "source": [
    "for iModel, oModel in enumerate(oModelList):\n",
    "    print(oModel)"
   ]
  },
  {
   "cell_type": "markdown",
   "id": "c08c76ab-bf61-41d8-b8e4-ab822e03497f",
   "metadata": {},
   "source": [
    "We can e.g., check the name and title of the loaded models using methods available for *IModel* objects:"
   ]
  },
  {
   "cell_type": "code",
   "execution_count": 11,
   "id": "5f69499a-2f54-4d5b-abb5-3bc6cc6fd15f",
   "metadata": {},
   "outputs": [
    {
     "name": "stdout",
     "output_type": "stream",
     "text": [
      "Model[1] -> name: M1, title: Alcohol Model\n",
      "Model[2] -> name: M3, title: Alcohol Model - 1st Derivative Data\n"
     ]
    }
   ],
   "source": [
    "for iModel, oModel in enumerate(oModelList):\n",
    "    print(f'Model[{iModel+1}] -> name: {oModel.GetName()}, title: {oModel.GetTitle()}')"
   ]
  },
  {
   "cell_type": "markdown",
   "id": "3a23210b-ab0d-4669-9ed9-b0c8f8344911",
   "metadata": {},
   "source": [
    "## Prepare Predictions"
   ]
  },
  {
   "cell_type": "markdown",
   "id": "4d1f63fb-37cc-45f6-9fe5-a2acaedc9b8d",
   "metadata": {},
   "source": [
    "The next step for making predictions for new data is to create an *IPreparePrediction* object for the model of interest.\n",
    "\n",
    "We will first focus of the first model i.e., M1:"
   ]
  },
  {
   "cell_type": "code",
   "execution_count": 12,
   "id": "583ce751-38b8-4531-a725-e9610d6dbde6",
   "metadata": {},
   "outputs": [],
   "source": [
    "oPrepPredList = []\n",
    "for iModel, oModel in enumerate(oModelList):\n",
    "    oPrepPredList.append(oModel.PreparePrediction())"
   ]
  },
  {
   "cell_type": "markdown",
   "id": "6749d484-b71e-48a4-bc87-3fadbf67c6bf",
   "metadata": {},
   "source": [
    "We can check that effectively this created a list of *IPreparePrediction* objects:"
   ]
  },
  {
   "cell_type": "code",
   "execution_count": 13,
   "id": "60661fac-9e9d-4174-b471-091ecf0f9e5a",
   "metadata": {},
   "outputs": [
    {
     "name": "stdout",
     "output_type": "stream",
     "text": [
      "<win32com.gen_py.SIMCA-Q 17 Type Library.IPreparePrediction instance at 0x2586405649568>\n",
      "<win32com.gen_py.SIMCA-Q 17 Type Library.IPreparePrediction instance at 0x2586405638960>\n"
     ]
    }
   ],
   "source": [
    "for iPrepPred, oPrepPred in enumerate(oPrepPredList):\n",
    "    print(oPrepPred)"
   ]
  },
  {
   "cell_type": "markdown",
   "id": "431db2e1-85b3-4589-b031-3f18a7445bcc",
   "metadata": {},
   "source": [
    "Let's have a look now at the variables used for predicition in both models. We start with model M1:"
   ]
  },
  {
   "cell_type": "code",
   "execution_count": 14,
   "id": "4dadf82d-e084-410e-bde5-a58162420600",
   "metadata": {},
   "outputs": [
    {
     "name": "stdout",
     "output_type": "stream",
     "text": [
      "1051\n"
     ]
    }
   ],
   "source": [
    "predictionVariablesM1 = oPrepPredList[0].GetVariablesForPrediction()\n",
    "numberPredictionVariablesM1 = predictionVariablesM1.GetSize()\n",
    "print(numberPredictionVariablesM1)"
   ]
  },
  {
   "cell_type": "markdown",
   "id": "9af28a7a-3aaf-496c-933a-1bf2744418e5",
   "metadata": {},
   "source": [
    "Let's print the names of the first 10 variables needed to make predictions with this model:"
   ]
  },
  {
   "cell_type": "code",
   "execution_count": 15,
   "id": "35c1c5cc-8c43-4046-af51-09d4a40376b4",
   "metadata": {},
   "outputs": [
    {
     "name": "stdout",
     "output_type": "stream",
     "text": [
      "Variable in position 1: Alcohol\n",
      "Variable in position 2: 400\n",
      "Variable in position 3: 402\n",
      "Variable in position 4: 404\n",
      "Variable in position 5: 406\n",
      "Variable in position 6: 408\n",
      "Variable in position 7: 410\n",
      "Variable in position 8: 412\n",
      "Variable in position 9: 414\n",
      "Variable in position 10: 416\n"
     ]
    }
   ],
   "source": [
    "for iVar in range(1,11):\n",
    "    print(f'Variable in position {iVar}: {predictionVariablesM1.GetVariable(iVar).GetName(1)}')"
   ]
  },
  {
   "cell_type": "markdown",
   "id": "ed6eac53-9c71-4c42-8a91-575e33fb006c",
   "metadata": {},
   "source": [
    "But you can already guess that *Alcohol* is a Y quantity, indeed the one that we want to predict. We can print instead only the X variables by using the *IsXVariable()* method: "
   ]
  },
  {
   "cell_type": "code",
   "execution_count": 16,
   "id": "57ca1e00-0a8a-42ee-ae55-a1f1c08204aa",
   "metadata": {},
   "outputs": [
    {
     "name": "stdout",
     "output_type": "stream",
     "text": [
      "Variable in position 2: 400\n",
      "Variable in position 3: 402\n",
      "Variable in position 4: 404\n",
      "Variable in position 5: 406\n",
      "Variable in position 6: 408\n",
      "Variable in position 7: 410\n",
      "Variable in position 8: 412\n",
      "Variable in position 9: 414\n",
      "Variable in position 10: 416\n"
     ]
    }
   ],
   "source": [
    "for iVar in range(1,11):\n",
    "    if predictionVariablesM1.GetVariable(iVar).IsXVariable()==1:\n",
    "        print(f'Variable in position {iVar}: {predictionVariablesM1.GetVariable(iVar).GetName(1)}')"
   ]
  },
  {
   "cell_type": "markdown",
   "id": "a40e7fa1-1926-4961-ac35-daa0497f224b",
   "metadata": {},
   "source": [
    "Now we need to populate the *IPreparePrediction* object with the data for prediction i.e., a spectrum not used to build the model. As indicated above, in this example this spectrum is available as a 2 rows csv file, the first row indicating the names of the variables and the second row containing quantitative values for these variables. The way to load input files will be dependent on the format/structure of these files, so a general way cannot be proposed. For the format of our file, the following function will work, which will return two lists, one for the name of the variables and one for their values:"
   ]
  },
  {
   "cell_type": "code",
   "execution_count": 17,
   "id": "f5d33a9a-4080-4ad9-9e5a-8c70db217a55",
   "metadata": {},
   "outputs": [],
   "source": [
    "import pandas as pd\n",
    "\n",
    "def LoadInputCSVFile(predictionDataFile):\n",
    "    pred_sample = pd.read_csv(predictionDataFile, index_col=False)\n",
    "    inputVariableNames = list(pred_sample.columns.values)\n",
    "    inputData = pred_sample.iloc[0,:].to_list()\n",
    "    return inputVariableNames, inputData\n",
    "\n",
    "predictionDataFile = \"predictionDataFile2.csv\"\n",
    "inputVariableNames, inputData = LoadInputCSVFile(predictionDataFile)"
   ]
  },
  {
   "cell_type": "markdown",
   "id": "d27bf579-b884-4e29-82f7-5f53d05add65",
   "metadata": {},
   "source": [
    "We can print the first 10 components of both lists and verify that they coincide with the caption shown above for the file opened in Excel:"
   ]
  },
  {
   "cell_type": "code",
   "execution_count": 18,
   "id": "201e2826-cdad-4505-968f-864b3bce412c",
   "metadata": {},
   "outputs": [
    {
     "name": "stdout",
     "output_type": "stream",
     "text": [
      "400: 0.0718325\n",
      "402: 0.073309\n",
      "404: 0.0727075\n",
      "406: 0.072502\n",
      "408: 0.072041\n",
      "410: 0.071419\n",
      "412: 0.070675\n",
      "414: 0.070036\n",
      "416: 0.069309\n",
      "418: 0.068394\n"
     ]
    }
   ],
   "source": [
    "for iVar in range(0,10):\n",
    "    print(f'{inputVariableNames[iVar]}: {inputData[iVar]}')"
   ]
  },
  {
   "cell_type": "markdown",
   "id": "13046297-a543-48c2-bd05-488c6cd4217a",
   "metadata": {},
   "source": [
    "To populate the *IPreparePrediction* object we can follow the [approach discussed in a previous section](https://github.com/OEM-Sartorius-Data-Analytics/SimcaQ_Python_Scripting_Guide/blob/main/06_PredictionInterface_0/PredictionInterface_Introduction.md). Basically, we first create a dictionary with the names of the variables used to build the models as keys, and the position of these variables in the *IVariableVector* object returned by the *IPreparePrediction* method *GetVariablesForPrediction()* as values:"
   ]
  },
  {
   "cell_type": "code",
   "execution_count": 19,
   "id": "a3ff6a73-4183-4eb1-8030-52a1a5a7cd09",
   "metadata": {},
   "outputs": [],
   "source": [
    "variables_vec = [predictionVariablesM1.GetVariable(i+1).GetName(1) for i in range(predictionVariablesM1.GetSize())]\n",
    "NameLookup = {name: ix+1 for ix, name in enumerate(variables_vec)}"
   ]
  },
  {
   "cell_type": "markdown",
   "id": "c8bd7717-7e0b-4204-9a12-06aa977405c4",
   "metadata": {},
   "source": [
    "Now we can iterate over the data lists for prediction, and provide SIMCA-Q with only the variables whose names coincide with those used to build the model, and also in the correct order:"
   ]
  },
  {
   "cell_type": "code",
   "execution_count": 20,
   "id": "ec2efedb-4daf-4869-a101-e0999138f6a5",
   "metadata": {},
   "outputs": [],
   "source": [
    "iObs = 1 # We only have 1 observation in the file with data for prediction\n",
    "for i, name in enumerate(inputVariableNames):\n",
    "    if name in NameLookup:\n",
    "        oPrepPredList[0].SetQuantitativeData(iObs, NameLookup[name], inputData[i])"
   ]
  },
  {
   "cell_type": "markdown",
   "id": "2341a5e3-0534-4407-bd8b-f475f349fc16",
   "metadata": {},
   "source": [
    "## Making Predictions"
   ]
  },
  {
   "cell_type": "markdown",
   "id": "3d2e3ce0-8efe-4fe0-8ed6-92afaeb68ff4",
   "metadata": {},
   "source": [
    "Now we can create *IPrediction* objects that will allow us to handle the predicted quantities themselves:"
   ]
  },
  {
   "cell_type": "code",
   "execution_count": 21,
   "id": "8bbd85af-58e9-4bce-8d72-635fd0d61523",
   "metadata": {},
   "outputs": [],
   "source": [
    "oPredictionM1 = oPrepPredList[0].GetPrediction()"
   ]
  },
  {
   "cell_type": "markdown",
   "id": "cc0734ac-07ba-4ae9-b63d-74c63a11ce7d",
   "metadata": {},
   "source": [
    "If we print it, we can see that it is indeed a *IPrediction* object:"
   ]
  },
  {
   "cell_type": "code",
   "execution_count": 22,
   "id": "28e89c96-033f-4120-bebd-558f98b88ad7",
   "metadata": {},
   "outputs": [
    {
     "name": "stdout",
     "output_type": "stream",
     "text": [
      "<win32com.gen_py.SIMCA-Q 17 Type Library.IPrediction instance at 0x2586406095888>\n"
     ]
    }
   ],
   "source": [
    "print(oPredictionM1)"
   ]
  },
  {
   "cell_type": "markdown",
   "id": "21432f9a-7558-4af1-b500-004088b77ef8",
   "metadata": {},
   "source": [
    "With this object we can retrieve any predicted quantity. "
   ]
  },
  {
   "cell_type": "markdown",
   "id": "a3d564d0-6bd3-46fa-a24d-73752e888699",
   "metadata": {},
   "source": [
    "### Predicting the alcohol content"
   ]
  },
  {
   "cell_type": "markdown",
   "id": "f6db4b2f-206a-4381-88a2-ee6a7c8bc41a",
   "metadata": {},
   "source": [
    "To retrieve a handle for the predicted Alcohol content, using all predictive scores (in this case is just 1):"
   ]
  },
  {
   "cell_type": "code",
   "execution_count": 23,
   "id": "60c7f51e-420f-4c37-a5e3-b02c69c27b76",
   "metadata": {},
   "outputs": [],
   "source": [
    "numPredictiveScores = oModelList[0].GetNumberOfPredictiveComponents()\n",
    "hPredictedY = oPredictionM1.GetYPredPS(numPredictiveScores,True,True,None)"
   ]
  },
  {
   "cell_type": "markdown",
   "id": "fb06a75c-1bd5-4a4e-b844-7ef7d8d9b840",
   "metadata": {},
   "source": [
    "This handle is an *IVectorData* object as we can see by printing it:"
   ]
  },
  {
   "cell_type": "code",
   "execution_count": 24,
   "id": "e6160153-0aac-4056-b3e4-d2cc17b76f39",
   "metadata": {},
   "outputs": [
    {
     "name": "stdout",
     "output_type": "stream",
     "text": [
      "<win32com.gen_py.SIMCA-Q 17 Type Library.IVectorData instance at 0x2586975756176>\n"
     ]
    }
   ],
   "source": [
    "print(hPredictedY)"
   ]
  },
  {
   "cell_type": "markdown",
   "id": "263997b1-a855-4031-96bb-0db45c522342",
   "metadata": {},
   "source": [
    "With this handle we can verify the quantity that we have predicted. For this we first retrieve from it a handle for the column names:"
   ]
  },
  {
   "cell_type": "code",
   "execution_count": 25,
   "id": "805033e9-9a08-4f61-acec-0352cf3a561c",
   "metadata": {},
   "outputs": [
    {
     "name": "stdout",
     "output_type": "stream",
     "text": [
      "<win32com.gen_py.SIMCA-Q 17 Type Library.IStringVector instance at 0x2586406094064>\n"
     ]
    }
   ],
   "source": [
    "print(hPredictedY.GetColumnNames())"
   ]
  },
  {
   "cell_type": "markdown",
   "id": "95b9b899-c52e-4797-9cf4-bda1833e8122",
   "metadata": {},
   "source": [
    "which returns an *IStringVector* object:"
   ]
  },
  {
   "cell_type": "code",
   "execution_count": 26,
   "id": "d4a12630-dbf1-4e73-a18e-7500b8b25dee",
   "metadata": {},
   "outputs": [
    {
     "name": "stdout",
     "output_type": "stream",
     "text": [
      "<win32com.gen_py.SIMCA-Q 17 Type Library.IStringVector instance at 0x2586975759056>\n"
     ]
    }
   ],
   "source": [
    "print(hPredictedY.GetColumnNames())"
   ]
  },
  {
   "cell_type": "markdown",
   "id": "47e77754-98f0-4fc6-b574-269ac5bc430a",
   "metadata": {},
   "source": [
    "By using the methods *GetSize()* we can see that we have only predicted one variable:"
   ]
  },
  {
   "cell_type": "code",
   "execution_count": 27,
   "id": "9219a550-a0c3-48b2-962e-efd6087f6b20",
   "metadata": {},
   "outputs": [
    {
     "name": "stdout",
     "output_type": "stream",
     "text": [
      "Number of predicted variables: 1\n"
     ]
    }
   ],
   "source": [
    "print(f'Number of predicted variables: {hPredictedY.GetColumnNames().GetSize()}')"
   ]
  },
  {
   "cell_type": "markdown",
   "id": "dcec2c0a-37d6-4708-ae78-1814a25e2e1e",
   "metadata": {},
   "source": [
    "and by using the method *GetData()*, passing as ar argument the variable number (in this case 1 as there is only 1 predicted variable), we can get the name of the predicted variable"
   ]
  },
  {
   "cell_type": "code",
   "execution_count": 28,
   "id": "2d7a594a-6776-4257-ac86-1bf783b513d8",
   "metadata": {},
   "outputs": [
    {
     "name": "stdout",
     "output_type": "stream",
     "text": [
      "Name of predicted variable: M1.YPredPS[1](Alcohol)\n"
     ]
    }
   ],
   "source": [
    "print(f'Name of predicted variable: {hPredictedY.GetColumnNames().GetData(1)}')"
   ]
  },
  {
   "cell_type": "markdown",
   "id": "7466cb7c-8cd2-4f2a-bc89-4ea608b61257",
   "metadata": {},
   "source": [
    "To retrieve the actual predicted value for the alcohol content, we need to retrieve a handle for the matrix of predicted data:"
   ]
  },
  {
   "cell_type": "code",
   "execution_count": 29,
   "id": "804bcbd8-6bcd-4ae6-ae64-8d9b27e0e7a8",
   "metadata": {},
   "outputs": [],
   "source": [
    "predictedYDataMatrix = hPredictedY.GetDataMatrix()"
   ]
  },
  {
   "cell_type": "markdown",
   "id": "2140f4e6-2df8-42b1-94df-4e4455190ca6",
   "metadata": {},
   "source": [
    "which is in the form of an *IFloatMatrix* object:"
   ]
  },
  {
   "cell_type": "code",
   "execution_count": 30,
   "id": "1f60e018-3d4e-4f8d-8da5-df26e3a93c6a",
   "metadata": {},
   "outputs": [
    {
     "name": "stdout",
     "output_type": "stream",
     "text": [
      "<win32com.gen_py.SIMCA-Q 17 Type Library.IFloatMatrix instance at 0x2586975758432>\n"
     ]
    }
   ],
   "source": [
    "print(predictedYDataMatrix)"
   ]
  },
  {
   "cell_type": "markdown",
   "id": "1b314ab3-577d-41ca-b9d8-7ab9423ba565",
   "metadata": {},
   "source": [
    "We can finally obtain the value for the alcohol content from this object by using the *GetData()* method, whic receives as input parameters the observation number and the variable number. In our case, we are just predicting one variable from one observation. Thus, to predict the alcohol content from the new spectrum:"
   ]
  },
  {
   "cell_type": "code",
   "execution_count": 31,
   "id": "fc3c3922-7da7-4791-b681-7754c175e3d4",
   "metadata": {},
   "outputs": [
    {
     "name": "stdout",
     "output_type": "stream",
     "text": [
      "Alcohol Content: 2.850982189178467\n"
     ]
    }
   ],
   "source": [
    "iObs = 1\n",
    "iVarY = 1\n",
    "predictedYValue = predictedYDataMatrix.GetData(iObs,iVarY)\n",
    "print(f'Alcohol Content: {predictedYValue}')"
   ]
  },
  {
   "cell_type": "markdown",
   "id": "366200cc-6676-4698-8d94-29de8179dd46",
   "metadata": {},
   "source": [
    "### Predicting the scores"
   ]
  },
  {
   "cell_type": "markdown",
   "id": "680b7262-74ee-498f-8b56-c7b7ede4f4dc",
   "metadata": {},
   "source": [
    "We can also retrieve with SIMCA-Q the predicted scores and compare them with the scores of the observations used to build the model."
   ]
  },
  {
   "cell_type": "markdown",
   "id": "7cf4437b-f4d0-4e77-b7b0-c021f924fc92",
   "metadata": {},
   "source": [
    "#### Retrieving and plotting the model scores"
   ]
  },
  {
   "cell_type": "markdown",
   "id": "5eb0ba80-5dd3-4006-80ea-18307df20b55",
   "metadata": {},
   "source": [
    "We will first retrieve the latter, focusing on the model M1."
   ]
  },
  {
   "cell_type": "markdown",
   "id": "fad9fbed-a26d-40a9-9c65-ae03cb99a488",
   "metadata": {},
   "source": [
    "It is an OPLS model. From the *IModel* interface we can first retrieve the number of both predictive and X orthogonal components:"
   ]
  },
  {
   "cell_type": "code",
   "execution_count": 97,
   "id": "ac88cd0f-4ab1-4215-b449-700a461a74ed",
   "metadata": {},
   "outputs": [],
   "source": [
    "numPredictiveComponents = oModelList[0].GetNumberOfPredictiveComponents()"
   ]
  },
  {
   "cell_type": "code",
   "execution_count": 98,
   "id": "d418b4ad-00ca-42aa-ab62-214724eeab06",
   "metadata": {},
   "outputs": [],
   "source": [
    "numXOrthogonalComponents = oModelList[0].GetNumberOfXOrthogonalComponents()"
   ]
  },
  {
   "cell_type": "code",
   "execution_count": 99,
   "id": "61360800-c1dd-46b4-83da-ae324a9c09a3",
   "metadata": {},
   "outputs": [
    {
     "name": "stdout",
     "output_type": "stream",
     "text": [
      "Number of Predictive Components: 1\n",
      "Number of X Orthogonal Components: 1\n"
     ]
    }
   ],
   "source": [
    "print(f'Number of Predictive Components: {numPredictiveComponents}')\n",
    "print(f'Number of X Orthogonal Components: {numXOrthogonalComponents}')"
   ]
  },
  {
   "cell_type": "markdown",
   "id": "dd9a6a19-7daa-4d07-bd53-4864e567797c",
   "metadata": {},
   "source": [
    "We can now get handles for the predictive and orthogonal components using the *GetT()* and *GetTo()* methods respectively:"
   ]
  },
  {
   "cell_type": "code",
   "execution_count": 87,
   "id": "63d76c91-0115-42e7-a132-6d0c7f5e7f93",
   "metadata": {},
   "outputs": [],
   "source": [
    "hPredictiveComponents = oModelList[0].GetT(None)\n",
    "hOrthogonalComponents = oModelList[0].GetTo(None)"
   ]
  },
  {
   "cell_type": "markdown",
   "id": "b21cbe2e-2b5f-4856-b5fb-d9d6b101056d",
   "metadata": {},
   "source": [
    "By passing *None* as an argument we specify that we want handles for all components in each case. We can see how these methods return *IVectorData* objects:"
   ]
  },
  {
   "cell_type": "code",
   "execution_count": 88,
   "id": "535a74c7-59db-4ca8-b281-aee5ca8ebcc1",
   "metadata": {},
   "outputs": [
    {
     "name": "stdout",
     "output_type": "stream",
     "text": [
      "<win32com.gen_py.SIMCA-Q 17 Type Library.IVectorData instance at 0x2587006311664>\n",
      "<win32com.gen_py.SIMCA-Q 17 Type Library.IVectorData instance at 0x2587019261216>\n"
     ]
    }
   ],
   "source": [
    "print(hPredictiveComponents)\n",
    "print(hOrthogonalComponents)"
   ]
  },
  {
   "cell_type": "markdown",
   "id": "bce1ca80-c632-4557-9303-2e09bfb19fb5",
   "metadata": {},
   "source": [
    "From these objects we can retrieve the number and names of the components (columns) and observations (rows). For this, we first need to retrieve handles for the components (columns) and observations (rows)."
   ]
  },
  {
   "cell_type": "markdown",
   "id": "a5faa768-0c58-462d-bb57-3424846e000d",
   "metadata": {},
   "source": [
    "For the predictive components:"
   ]
  },
  {
   "cell_type": "code",
   "execution_count": 89,
   "id": "be33461a-875a-4cbf-9529-7da9cf97ef3a",
   "metadata": {},
   "outputs": [],
   "source": [
    "hNamesPredictiveComponents = hPredictiveComponents.GetColumnNames()\n",
    "hObservationNamesPredictiveComponents = hPredictiveComponents.GetRowNames()"
   ]
  },
  {
   "cell_type": "markdown",
   "id": "967ef7ac-0825-4b5d-a583-fbd1d1a96e53",
   "metadata": {},
   "source": [
    "and for the orthognal components:"
   ]
  },
  {
   "cell_type": "code",
   "execution_count": 90,
   "id": "c6172e36-a2b8-476f-831b-7e180cf1b580",
   "metadata": {},
   "outputs": [],
   "source": [
    "hNamesOrthogonalComponents = hOrthogonalComponents.GetColumnNames()\n",
    "hObservationNamesOrthogonalComponents = hOrthogonalComponents.GetRowNames()"
   ]
  },
  {
   "cell_type": "markdown",
   "id": "edbcd6e0-97d3-4e1b-8c9e-adf9d6245a5f",
   "metadata": {},
   "source": [
    "we can check that in all cases we retrieved *IStringVector* objects:"
   ]
  },
  {
   "cell_type": "code",
   "execution_count": 91,
   "id": "24778d7d-7def-48ea-945a-92c774826ab1",
   "metadata": {},
   "outputs": [
    {
     "name": "stdout",
     "output_type": "stream",
     "text": [
      "<win32com.gen_py.SIMCA-Q 17 Type Library.IStringVector instance at 0x2587022310224>\n",
      "<win32com.gen_py.SIMCA-Q 17 Type Library.IStringVector instance at 0x2587021648960>\n",
      "<win32com.gen_py.SIMCA-Q 17 Type Library.IStringVector instance at 0x2587022309792>\n",
      "<win32com.gen_py.SIMCA-Q 17 Type Library.IStringVector instance at 0x2587056198496>\n"
     ]
    }
   ],
   "source": [
    "print(hNamesPredictiveComponents)\n",
    "print(hObservationNamesPredictiveComponents)\n",
    "print(hNamesOrthogonalComponents)\n",
    "print(hObservationNamesOrthogonalComponents)"
   ]
  },
  {
   "cell_type": "markdown",
   "id": "0e309100-d3a5-42f5-9431-2d7ba40e605f",
   "metadata": {},
   "source": [
    "We already know that we have just one predictive component and one orthogonal component To obtain the actual names of these component we can use the *GetData()* method, which receives as an input parameter the index of the component (1 in both cases in this example):"
   ]
  },
  {
   "cell_type": "code",
   "execution_count": 93,
   "id": "cf68a667-0088-4113-aa35-7dbd97faadf2",
   "metadata": {},
   "outputs": [
    {
     "name": "stdout",
     "output_type": "stream",
     "text": [
      "Name Predictive Component: M1.t[1]\n",
      "Name Orthogonal Component: M1.to[1]\n"
     ]
    }
   ],
   "source": [
    "print(f'Name Predictive Component: {hNamesPredictiveComponents.GetData(1)}')\n",
    "print(f'Name Orthogonal Component: {hNamesOrthogonalComponents.GetData(1)}')"
   ]
  },
  {
   "cell_type": "markdown",
   "id": "add221f1-4053-4c17-a521-64eb87e3efbf",
   "metadata": {},
   "source": [
    "Now we can get handles for the matrices of predictive and orthogonal data by using in both cases the *GetDataMatrix()* method:"
   ]
  },
  {
   "cell_type": "code",
   "execution_count": 94,
   "id": "09d34885-6b80-46d2-9e55-f95be4ae1c55",
   "metadata": {},
   "outputs": [],
   "source": [
    "hPredictiveScoresDataMatrix = hPredictiveScores.GetDataMatrix()\n",
    "hOrthogonalScoresDataMatrix = hOrthogonalScores.GetDataMatrix()"
   ]
  },
  {
   "cell_type": "markdown",
   "id": "199790a7-82bb-4fbf-b9db-e19e00e07709",
   "metadata": {},
   "source": [
    "This method returns *IFloatMatrix* objects:"
   ]
  },
  {
   "cell_type": "code",
   "execution_count": 96,
   "id": "a417d4bd-ab88-48c7-9510-7538028be747",
   "metadata": {},
   "outputs": [
    {
     "name": "stdout",
     "output_type": "stream",
     "text": [
      "<win32com.gen_py.SIMCA-Q 17 Type Library.IFloatMatrix instance at 0x2587019857200>\n",
      "<win32com.gen_py.SIMCA-Q 17 Type Library.IFloatMatrix instance at 0x2587001315648>\n"
     ]
    }
   ],
   "source": [
    "print(hPredictiveScoresDataMatrix)\n",
    "print(hOrthogonalScoresDataMatrix)"
   ]
  },
  {
   "cell_type": "markdown",
   "id": "46f3da15-1a61-49a3-bbb5-b0fd12966041",
   "metadata": {},
   "source": [
    "From these objects we can finally retrieve the score values by using the *GetData()* method, which receives as input parameters the indices for the observations and components. We know that we only have 1 predictive component and 1 orthogonal component. Also, the number of observations does not change. Accordingly, with the following code we can retrieve two lists, one with the predictive scores and one with the orthogonal ones:"
   ]
  },
  {
   "cell_type": "code",
   "execution_count": 103,
   "id": "b91a2a06-8925-453c-8b73-67612cdde707",
   "metadata": {},
   "outputs": [],
   "source": [
    "predictiveScores=[]\n",
    "orthogonalScores=[]\n",
    "for i in range(1, hPredictiveScoresDataMatrix.GetNumberOfRows()+1):\n",
    "    predictiveScores.append(hPredictiveScoresDataMatrix.GetData(i,1))\n",
    "    orthogonalScores.append(hOrthogonalScoresDataMatrix.GetData(i,1))"
   ]
  },
  {
   "cell_type": "markdown",
   "id": "48096995-0de7-4d2e-a90b-422cfbece674",
   "metadata": {},
   "source": [
    "We can now plot the scores for the model"
   ]
  },
  {
   "cell_type": "code",
   "execution_count": 119,
   "id": "b74aa85d-0dcf-4414-b096-db0310522bf4",
   "metadata": {},
   "outputs": [
    {
     "data": {
      "image/png": "[encoded data removed]",
      "text/plain": [
       "<Figure size 640x480 with 1 Axes>"
      ]
     },
     "metadata": {},
     "output_type": "display_data"
    }
   ],
   "source": [
    "import matplotlib.pyplot as plt\n",
    "\n",
    "plt.scatter(predictiveScores, orthogonalScores)\n",
    "\n",
    "# Setting the limits to center the data in the plot\n",
    "xSize = max(abs(min(predictiveScores)),abs(max(predictiveScores)))\n",
    "xSize += 0.1*xSize\n",
    "ySize = max(abs(min(orthogonalScores)),abs(max(orthogonalScores)))\n",
    "ySize += 0.1*ySize\n",
    "plt.xlim([-1*xSize,xSize])\n",
    "plt.ylim([-1*ySize,ySize])\n",
    "\n",
    "# Setting the labels\n",
    "plt.xlabel(hNamesPredictiveComponents.GetData(1))\n",
    "plt.ylabel(hNamesOrthogonalComponents.GetData(1))\n",
    "\n",
    "# Setting the title\n",
    "plt.title(f'{oModelList[0].GetName()} - {oModelList[0].GetTitle()}')\n",
    "\n",
    "# Render the plot\n",
    "plt.show()"
   ]
  },
  {
   "cell_type": "markdown",
   "id": "a6d26b23-9007-4d6a-afbb-1a9ae39d5e01",
   "metadata": {},
   "source": [
    "#### Retrieving and plotting the predicted scores"
   ]
  },
  {
   "cell_type": "code",
   "execution_count": null,
   "id": "49ec9a08-dd45-497c-a8ac-b82c788a9885",
   "metadata": {},
   "outputs": [],
   "source": []
  },
  {
   "cell_type": "code",
   "execution_count": null,
   "id": "2d73c259-f554-4a09-8878-2f9dac1a69c2",
   "metadata": {},
   "outputs": [],
   "source": []
  },
  {
   "cell_type": "code",
   "execution_count": null,
   "id": "83d07f04-bfbb-4847-b05e-e3f82e015185",
   "metadata": {},
   "outputs": [],
   "source": []
  },
  {
   "cell_type": "code",
   "execution_count": null,
   "id": "04ea4764-1c77-4100-8d57-1ed4e39d2dad",
   "metadata": {},
   "outputs": [],
   "source": []
  },
  {
   "cell_type": "code",
   "execution_count": null,
   "id": "d0c3cad1-f9a9-4d7f-8bcc-4f8aeb477ee2",
   "metadata": {},
   "outputs": [],
   "source": []
  }
 ],
 "metadata": {
  "kernelspec": {
   "display_name": "Python 3 (ipykernel)",
   "language": "python",
   "name": "python3"
  },
  "language_info": {
   "codemirror_mode": {
    "name": "ipython",
    "version": 3
   },
   "file_extension": ".py",
   "mimetype": "text/x-python",
   "name": "python",
   "nbconvert_exporter": "python",
   "pygments_lexer": "ipython3",
   "version": "3.10.4"
  }
 },
 "nbformat": 4,
 "nbformat_minor": 5
}
