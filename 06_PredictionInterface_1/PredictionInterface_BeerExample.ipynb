{
 "cells": [
  {
   "cell_type": "markdown",
   "id": "1c199464-fd50-4218-a32a-bd9fb583d059",
   "metadata": {},
   "source": [
    "# Making Predictions: An Example Using the Beer Dataset\n",
    "\n",
    "We will go through the proccess for predicting Y quantities with SIMCA-Q.\n",
    "\n",
    "We will use a SIMCA project where two OPLS models have been built using the BEER dataset typically used in SIMCA courses. The picture below shows the initial observations and variables of the original dataset used in this project:"
   ]
  },
  {
   "cell_type": "markdown",
   "id": "238e1ab9-6e16-4020-8e83-f60ec1829828",
   "metadata": {},
   "source": [
    "![Original Dataset](Images/Dataset1.png)"
   ]
  },
  {
   "cell_type": "markdown",
   "id": "67f6da92-a7ce-4dbf-a57b-feaa8598d213",
   "metadata": {},
   "source": [
    "This SIMCA file is available from this [repository folder](https://github.com/OEM-Sartorius-Data-Analytics/SimcaQ_Python_Scripting_Guide/tree/main/06_PredictionInterface_1) as *BEER_NIR_alcohol_example.usp*.\n",
    "\n",
    "The SIMCA project file has two OPLS models, both predicting the alcohol content:"
   ]
  },
  {
   "cell_type": "markdown",
   "id": "7bb39c84-3d2a-49d7-84df-6295b0f8f52f",
   "metadata": {},
   "source": [
    "![Models](Images/Models.png)"
   ]
  },
  {
   "cell_type": "markdown",
   "id": "772fbb24-3c9d-4ee0-a1eb-c5675c5883ad",
   "metadata": {},
   "source": [
    "We will show in this example how to predict the alcohol content of a spectrum not used to build the model. This spectrum will be in a csv format with two rows, one for the variable names and one for the variable values. When opened in Excel it looks like:"
   ]
  },
  {
   "cell_type": "markdown",
   "id": "728d30e6-2c93-4b3d-9783-455c673d417b",
   "metadata": {},
   "source": [
    "![Spectrum](Images/InputFile.png)"
   ]
  },
  {
   "cell_type": "markdown",
   "id": "825a79f6-66b4-4ae0-8848-e0126451f617",
   "metadata": {},
   "source": [
    "This csv file is available from this repository folder as [predictionDataFile2.csv](predictionDataFile2.csv)."
   ]
  },
  {
   "cell_type": "markdown",
   "id": "5d253b6f-3efc-4fe6-9580-69e35b9254fe",
   "metadata": {
    "tags": []
   },
   "source": [
    "## Accessing the SIMCA-Q COM Interface"
   ]
  },
  {
   "cell_type": "markdown",
   "id": "a5cd4f5c-e707-4147-b385-bd57eeda52e1",
   "metadata": {},
   "source": [
    "We will first need to access the SIMCA-Q COM interface. For this we will follow the [approach detailed in the guide](https://github.com/OEM-Sartorius-Data-Analytics/SimcaQ_Python_Scripting_Guide/blob/main/00_COM_and_License/COM_and_License.md)"
   ]
  },
  {
   "cell_type": "code",
   "execution_count": 1,
   "id": "b965fc53-1a6b-4137-9e89-6efebcc2caeb",
   "metadata": {},
   "outputs": [],
   "source": [
    "def dispatch(app_name:str):\n",
    "    try:\n",
    "        from win32com import client\n",
    "        app = client.gencache.EnsureDispatch(app_name)\n",
    "    except AttributeError:\n",
    "        # Corner case dependencies.\n",
    "        import os\n",
    "        import re\n",
    "        import sys\n",
    "        import shutil\n",
    "        # Remove cache and try again.\n",
    "        MODULE_LIST = [m.__name__ for m in sys.modules.values()]\n",
    "        for module in MODULE_LIST:\n",
    "            if re.match(r'win32com\\.gen_py\\..+', module):\n",
    "                del sys.modules[module]\n",
    "        shutil.rmtree(os.path.join(os.environ.get('LOCALAPPDATA'), 'Temp', 'gen_py'))\n",
    "        from win32com import client\n",
    "        app = client.gencache.EnsureDispatch(app_name)\n",
    "    return app"
   ]
  },
  {
   "cell_type": "code",
   "execution_count": 2,
   "id": "fa301a06-d495-451d-b722-6162160062e0",
   "metadata": {},
   "outputs": [],
   "source": [
    "simcaq = dispatch('Umetrics.SIMCAQ')"
   ]
  },
  {
   "cell_type": "markdown",
   "id": "410a4ee7-589b-40d5-ad30-e4f7616aa1f8",
   "metadata": {},
   "source": [
    "If we print the variable *simcaq* we can see that it is an *ISIMCAQ* object:"
   ]
  },
  {
   "cell_type": "code",
   "execution_count": 3,
   "id": "65fbb827-c66e-4c58-bf0e-8f7108729347",
   "metadata": {},
   "outputs": [
    {
     "name": "stdout",
     "output_type": "stream",
     "text": [
      "<win32com.gen_py.SIMCA-Q 17 Type Library.ISIMCAQ instance at 0x1970782558512>\n"
     ]
    }
   ],
   "source": [
    "print(simcaq)"
   ]
  },
  {
   "cell_type": "markdown",
   "id": "3aadebb2-2b29-4c6b-8ea5-f5fb728177d2",
   "metadata": {},
   "source": [
    "## Opening the SIMCA Project"
   ]
  },
  {
   "cell_type": "markdown",
   "id": "1875e466-a8a4-4c50-9fec-b8bd26e200c7",
   "metadata": {},
   "source": [
    "We can use the *ISIMCAQ* method *OpenProject()* to open the SIMCA Project *BEER_NIR_alcohol_example.usp*:"
   ]
  },
  {
   "cell_type": "code",
   "execution_count": 4,
   "id": "4479cfad-3a1a-41a5-b62d-502514d474ae",
   "metadata": {},
   "outputs": [],
   "source": [
    "pathSimcaProject = 'BEER_NIR_alcohol_example.usp'\n",
    "project = simcaq.OpenProject(pathSimcaProject, \"\")"
   ]
  },
  {
   "cell_type": "markdown",
   "id": "52f597a1-45b7-4ce3-988c-53af58f1485d",
   "metadata": {},
   "source": [
    "If we print the variable *project* we can see that it is an *IProject* object:"
   ]
  },
  {
   "cell_type": "code",
   "execution_count": 5,
   "id": "38caf521-767b-4e14-bcf4-d8bf284b18c0",
   "metadata": {},
   "outputs": [
    {
     "name": "stdout",
     "output_type": "stream",
     "text": [
      "<win32com.gen_py.SIMCA-Q 17 Type Library.IProject instance at 0x1970782556640>\n"
     ]
    }
   ],
   "source": [
    "print(project)"
   ]
  },
  {
   "cell_type": "markdown",
   "id": "28508872-e9ec-4499-bc06-0f4c69947269",
   "metadata": {},
   "source": [
    "As [discussed](https://github.com/OEM-Sartorius-Data-Analytics/SimcaQ_Python_Scripting_Guide/blob/main/01_ProjectInterface/ExploreProjectInterface.md), we can retrieve different attributes of the project straigtht away from this object.\n",
    "\n",
    "For instance, the name of the project:"
   ]
  },
  {
   "cell_type": "code",
   "execution_count": 6,
   "id": "4df29644-b337-4342-95cd-76b7cb0f1acd",
   "metadata": {},
   "outputs": [
    {
     "name": "stdout",
     "output_type": "stream",
     "text": [
      "BEER_NIR_alcohol_example\n"
     ]
    }
   ],
   "source": [
    "projectName = project.GetProjectName() \n",
    "print(projectName)"
   ]
  },
  {
   "cell_type": "markdown",
   "id": "2aac92bd-c99e-4e6e-94f8-817e3bae9d1e",
   "metadata": {},
   "source": [
    "The number of models within the project:"
   ]
  },
  {
   "cell_type": "code",
   "execution_count": 7,
   "id": "3eb7c15a-0e35-4817-b58a-b2001a81a251",
   "metadata": {},
   "outputs": [
    {
     "name": "stdout",
     "output_type": "stream",
     "text": [
      "2\n"
     ]
    }
   ],
   "source": [
    "numberModels = project.GetNumberOfModels()\n",
    "print(numberModels)"
   ]
  },
  {
   "cell_type": "markdown",
   "id": "5ae32e75-8b98-46e1-a890-2bfc074661e7",
   "metadata": {},
   "source": [
    "The number of datasets:"
   ]
  },
  {
   "cell_type": "code",
   "execution_count": 8,
   "id": "9c3a3d22-c467-49f4-a838-af5cb85e5d89",
   "metadata": {},
   "outputs": [
    {
     "name": "stdout",
     "output_type": "stream",
     "text": [
      "2\n"
     ]
    }
   ],
   "source": [
    "numberDatasets = project.GetNumberOfDatasets()\n",
    "print(numberDatasets)"
   ]
  },
  {
   "cell_type": "markdown",
   "id": "debe8285-19fb-41ab-9450-a547ca5e71cb",
   "metadata": {},
   "source": [
    "The project has indeed two databases, the one shown above and another one containing the 1st derivative of the spectra, which was used to build the second model:"
   ]
  },
  {
   "cell_type": "markdown",
   "id": "f11da24b-f010-4537-a32b-dca49a6a7834",
   "metadata": {},
   "source": [
    "![1st Derivative Dataset](Images/Dataset2.png)"
   ]
  },
  {
   "cell_type": "markdown",
   "id": "94e59692-e012-4920-b7ab-ae7ec0ea5d3b",
   "metadata": {},
   "source": [
    "## Accessing a Model"
   ]
  },
  {
   "cell_type": "markdown",
   "id": "ddbb7e90-7390-423b-9d97-bb0a9e67ff79",
   "metadata": {},
   "source": [
    "As [discussed](https://github.com/OEM-Sartorius-Data-Analytics/SimcaQ_Python_Scripting_Guide/blob/main/04_ModelInterface_0/ModelInterface_Introduction.md), we can access models by using the *IProject* method *GetModel()*, which receives as an input parameter.\n",
    "\n",
    "In the example below we retrieve handles for all the models in the project and store them in a list"
   ]
  },
  {
   "cell_type": "code",
   "execution_count": 9,
   "id": "2aca2640-b154-4034-ac7e-21672c853e1e",
   "metadata": {},
   "outputs": [],
   "source": [
    "oModelList = []\n",
    "for iModel in range(1,numberModels+1):\n",
    "    modelNumber = project.GetModelNumberFromIndex(iModel)\n",
    "    oModelList.append(project.GetModel(modelNumber))"
   ]
  },
  {
   "cell_type": "markdown",
   "id": "fa62d91f-4921-439b-a964-b3a716473f79",
   "metadata": {},
   "source": [
    "We can check that effectively this created a list of *IModel* objects:"
   ]
  },
  {
   "cell_type": "code",
   "execution_count": 10,
   "id": "4972d7ff-409f-4839-baf9-e06e906f7061",
   "metadata": {},
   "outputs": [
    {
     "name": "stdout",
     "output_type": "stream",
     "text": [
      "<win32com.gen_py.SIMCA-Q 17 Type Library.IModel instance at 0x1970783442768>\n",
      "<win32com.gen_py.SIMCA-Q 17 Type Library.IModel instance at 0x1970783442432>\n"
     ]
    }
   ],
   "source": [
    "for iModel, oModel in enumerate(oModelList):\n",
    "    print(oModel)"
   ]
  },
  {
   "cell_type": "markdown",
   "id": "c08c76ab-bf61-41d8-b8e4-ab822e03497f",
   "metadata": {},
   "source": [
    "We can e.g., check the name and title of the loaded models using methods available for *IModel* objects:"
   ]
  },
  {
   "cell_type": "code",
   "execution_count": 11,
   "id": "5f69499a-2f54-4d5b-abb5-3bc6cc6fd15f",
   "metadata": {},
   "outputs": [
    {
     "name": "stdout",
     "output_type": "stream",
     "text": [
      "Model[1] -> name: M1, title: Alcohol Model\n",
      "Model[2] -> name: M3, title: Alcohol Model - 1st Derivative Data\n"
     ]
    }
   ],
   "source": [
    "for iModel, oModel in enumerate(oModelList):\n",
    "    print(f'Model[{iModel+1}] -> name: {oModel.GetName()}, title: {oModel.GetTitle()}')"
   ]
  },
  {
   "cell_type": "markdown",
   "id": "3a23210b-ab0d-4669-9ed9-b0c8f8344911",
   "metadata": {},
   "source": [
    "## Prepare Predictions"
   ]
  },
  {
   "cell_type": "markdown",
   "id": "4d1f63fb-37cc-45f6-9fe5-a2acaedc9b8d",
   "metadata": {},
   "source": [
    "The next step for making predictions for new data is to create an *IPreparePrediction* object for the model of interest.\n",
    "\n",
    "We will first focus of the first model i.e., M1:"
   ]
  },
  {
   "cell_type": "code",
   "execution_count": 12,
   "id": "583ce751-38b8-4531-a725-e9610d6dbde6",
   "metadata": {},
   "outputs": [],
   "source": [
    "oPrepPredList = []\n",
    "for iModel, oModel in enumerate(oModelList):\n",
    "    oPrepPredList.append(oModel.PreparePrediction())"
   ]
  },
  {
   "cell_type": "markdown",
   "id": "6749d484-b71e-48a4-bc87-3fadbf67c6bf",
   "metadata": {},
   "source": [
    "We can check that effectively this created a list of *IPreparePrediction* objects:"
   ]
  },
  {
   "cell_type": "code",
   "execution_count": 13,
   "id": "60661fac-9e9d-4174-b471-091ecf0f9e5a",
   "metadata": {},
   "outputs": [
    {
     "name": "stdout",
     "output_type": "stream",
     "text": [
      "<win32com.gen_py.SIMCA-Q 17 Type Library.IPreparePrediction instance at 0x1970783450304>\n",
      "<win32com.gen_py.SIMCA-Q 17 Type Library.IPreparePrediction instance at 0x1970783446560>\n"
     ]
    }
   ],
   "source": [
    "for iPrepPred, oPrepPred in enumerate(oPrepPredList):\n",
    "    print(oPrepPred)"
   ]
  },
  {
   "cell_type": "markdown",
   "id": "431db2e1-85b3-4589-b031-3f18a7445bcc",
   "metadata": {},
   "source": [
    "Let's have a look now at the variables used for predicition in both models. We start with model M1:"
   ]
  },
  {
   "cell_type": "code",
   "execution_count": 14,
   "id": "4dadf82d-e084-410e-bde5-a58162420600",
   "metadata": {},
   "outputs": [
    {
     "name": "stdout",
     "output_type": "stream",
     "text": [
      "1051\n"
     ]
    }
   ],
   "source": [
    "predictionVariablesM1 = oPrepPredList[0].GetVariablesForPrediction()\n",
    "numberPredictionVariablesM1 = predictionVariablesM1.GetSize()\n",
    "print(numberPredictionVariablesM1)"
   ]
  },
  {
   "cell_type": "markdown",
   "id": "9af28a7a-3aaf-496c-933a-1bf2744418e5",
   "metadata": {},
   "source": [
    "Let's print the names of the first 10 variables needed to make predictions with this model:"
   ]
  },
  {
   "cell_type": "code",
   "execution_count": 15,
   "id": "35c1c5cc-8c43-4046-af51-09d4a40376b4",
   "metadata": {},
   "outputs": [
    {
     "name": "stdout",
     "output_type": "stream",
     "text": [
      "Variable in position 1: Alcohol\n",
      "Variable in position 2: 400\n",
      "Variable in position 3: 402\n",
      "Variable in position 4: 404\n",
      "Variable in position 5: 406\n",
      "Variable in position 6: 408\n",
      "Variable in position 7: 410\n",
      "Variable in position 8: 412\n",
      "Variable in position 9: 414\n",
      "Variable in position 10: 416\n"
     ]
    }
   ],
   "source": [
    "for iVar in range(1,11):\n",
    "    print(f'Variable in position {iVar}: {predictionVariablesM1.GetVariable(iVar).GetName(1)}')"
   ]
  },
  {
   "cell_type": "markdown",
   "id": "ed6eac53-9c71-4c42-8a91-575e33fb006c",
   "metadata": {},
   "source": [
    "But you can already guess that *Alcohol* is a Y quantity, indeed the one that we want to predict. We can print instead only the X variables by using the *IsXVariable()* method: "
   ]
  },
  {
   "cell_type": "code",
   "execution_count": 16,
   "id": "57ca1e00-0a8a-42ee-ae55-a1f1c08204aa",
   "metadata": {},
   "outputs": [
    {
     "name": "stdout",
     "output_type": "stream",
     "text": [
      "Variable in position 2: 400\n",
      "Variable in position 3: 402\n",
      "Variable in position 4: 404\n",
      "Variable in position 5: 406\n",
      "Variable in position 6: 408\n",
      "Variable in position 7: 410\n",
      "Variable in position 8: 412\n",
      "Variable in position 9: 414\n",
      "Variable in position 10: 416\n"
     ]
    }
   ],
   "source": [
    "for iVar in range(1,11):\n",
    "    if predictionVariablesM1.GetVariable(iVar).IsXVariable()==1:\n",
    "        print(f'Variable in position {iVar}: {predictionVariablesM1.GetVariable(iVar).GetName(1)}')"
   ]
  },
  {
   "cell_type": "markdown",
   "id": "a40e7fa1-1926-4961-ac35-daa0497f224b",
   "metadata": {},
   "source": [
    "Now we need to populate the *IPreparePrediction* object with the data for prediction i.e., a spectrum not used to build the model. As indicated above, in this example this spectrum is available as a 2 rows csv file, the first row indicating the names of the variables and the second row containing quantitative values for these variables. The way to load input files will be dependent on the format/structure of these files, so a general way cannot be proposed. For the format of our file, the following function will work, which will return two lists, one for the name of the variables and one for their values:"
   ]
  },
  {
   "cell_type": "code",
   "execution_count": 17,
   "id": "f5d33a9a-4080-4ad9-9e5a-8c70db217a55",
   "metadata": {},
   "outputs": [],
   "source": [
    "import pandas as pd\n",
    "\n",
    "def LoadInputCSVFile(predictionDataFile):\n",
    "    pred_sample = pd.read_csv(predictionDataFile, index_col=False)\n",
    "    inputVariableNames = list(pred_sample.columns.values)\n",
    "    inputData = pred_sample.iloc[0,:].to_list()\n",
    "    return inputVariableNames, inputData\n",
    "\n",
    "predictionDataFile = \"predictionDataFile2.csv\"\n",
    "inputVariableNames, inputData = LoadInputCSVFile(predictionDataFile)"
   ]
  },
  {
   "cell_type": "markdown",
   "id": "d27bf579-b884-4e29-82f7-5f53d05add65",
   "metadata": {},
   "source": [
    "We can print the first 10 components of both lists and verify that they coincide with the caption shown above for the file opened in Excel:"
   ]
  },
  {
   "cell_type": "code",
   "execution_count": 18,
   "id": "201e2826-cdad-4505-968f-864b3bce412c",
   "metadata": {},
   "outputs": [
    {
     "name": "stdout",
     "output_type": "stream",
     "text": [
      "400: 0.0718325\n",
      "402: 0.073309\n",
      "404: 0.0727075\n",
      "406: 0.072502\n",
      "408: 0.072041\n",
      "410: 0.071419\n",
      "412: 0.070675\n",
      "414: 0.070036\n",
      "416: 0.069309\n",
      "418: 0.068394\n"
     ]
    }
   ],
   "source": [
    "for iVar in range(0,10):\n",
    "    print(f'{inputVariableNames[iVar]}: {inputData[iVar]}')"
   ]
  },
  {
   "cell_type": "markdown",
   "id": "13046297-a543-48c2-bd05-488c6cd4217a",
   "metadata": {},
   "source": [
    "To populate the *IPreparePrediction* object we can follow the [approach discussed in a previous section](https://github.com/OEM-Sartorius-Data-Analytics/SimcaQ_Python_Scripting_Guide/blob/main/06_PredictionInterface_0/PredictionInterface_Introduction.md). Basically, we first create a dictionary with the names of the variables used to build the models as keys, and the position of these variables in the *IVariableVector* object returned by the *IPreparePrediction* method *GetVariablesForPrediction()* as values:"
   ]
  },
  {
   "cell_type": "code",
   "execution_count": 19,
   "id": "a3ff6a73-4183-4eb1-8030-52a1a5a7cd09",
   "metadata": {},
   "outputs": [],
   "source": [
    "variables_vec = [predictionVariablesM1.GetVariable(i+1).GetName(1) for i in range(predictionVariablesM1.GetSize())]\n",
    "NameLookup = {name: ix+1 for ix, name in enumerate(variables_vec)}"
   ]
  },
  {
   "cell_type": "markdown",
   "id": "c8bd7717-7e0b-4204-9a12-06aa977405c4",
   "metadata": {},
   "source": [
    "Now we can iterate over the data lists for prediction, and provide SIMCA-Q with only the variables whose names coincide with those used to build the model, and also in the correct order:"
   ]
  },
  {
   "cell_type": "code",
   "execution_count": 20,
   "id": "ec2efedb-4daf-4869-a101-e0999138f6a5",
   "metadata": {},
   "outputs": [],
   "source": [
    "iObs = 1 # We only have 1 observation in the file with data for prediction\n",
    "for i, name in enumerate(inputVariableNames):\n",
    "    if name in NameLookup:\n",
    "        oPrepPredList[0].SetQuantitativeData(iObs, NameLookup[name], inputData[i])"
   ]
  },
  {
   "cell_type": "markdown",
   "id": "2341a5e3-0534-4407-bd8b-f475f349fc16",
   "metadata": {},
   "source": [
    "## Making Predictions"
   ]
  },
  {
   "cell_type": "markdown",
   "id": "3d2e3ce0-8efe-4fe0-8ed6-92afaeb68ff4",
   "metadata": {},
   "source": [
    "Now we can create *IPrediction* objects that will allow us to handle the predicted quantities themselves:"
   ]
  },
  {
   "cell_type": "code",
   "execution_count": 21,
   "id": "8bbd85af-58e9-4bce-8d72-635fd0d61523",
   "metadata": {},
   "outputs": [],
   "source": [
    "oPredictionM1 = oPrepPredList[0].GetPrediction()"
   ]
  },
  {
   "cell_type": "markdown",
   "id": "cc0734ac-07ba-4ae9-b63d-74c63a11ce7d",
   "metadata": {},
   "source": [
    "With this object we can retrieve any predicted quantity."
   ]
  },
  {
   "cell_type": "markdown",
   "id": "a3d564d0-6bd3-46fa-a24d-73752e888699",
   "metadata": {},
   "source": [
    "### Predicting the alcohol content"
   ]
  },
  {
   "cell_type": "markdown",
   "id": "f6db4b2f-206a-4381-88a2-ee6a7c8bc41a",
   "metadata": {},
   "source": [
    "To retrieve a handle for the predicted Alcohol content, using all predictive scores (in this case is just 1):"
   ]
  },
  {
   "cell_type": "code",
   "execution_count": 22,
   "id": "60c7f51e-420f-4c37-a5e3-b02c69c27b76",
   "metadata": {},
   "outputs": [],
   "source": [
    "numPredictiveScores = oModelList[0].GetNumberOfPredictiveComponents()\n",
    "hPredictedY = oPredictionM1.GetYPredPS(numPredictiveScores,True,True,None)"
   ]
  },
  {
   "cell_type": "markdown",
   "id": "7466cb7c-8cd2-4f2a-bc89-4ea608b61257",
   "metadata": {},
   "source": [
    "And to retrieve the actual value for the alcohol content:"
   ]
  },
  {
   "cell_type": "code",
   "execution_count": 23,
   "id": "fc3c3922-7da7-4791-b681-7754c175e3d4",
   "metadata": {},
   "outputs": [
    {
     "name": "stdout",
     "output_type": "stream",
     "text": [
      "Alcohol Content: 2.850982189178467\n"
     ]
    }
   ],
   "source": [
    "predictionDataMatrix = hPredictedY.GetDataMatrix()\n",
    "iObs = 1\n",
    "iVarY = 1\n",
    "predictedY = predictionDataMatrix.GetData(iObs,iVarY)\n",
    "print(f'Alcohol Content: {predictedY}')"
   ]
  },
  {
   "cell_type": "code",
   "execution_count": null,
   "id": "0ec5f7b0-a0d5-47db-812c-2097776fd528",
   "metadata": {},
   "outputs": [],
   "source": []
  },
  {
   "cell_type": "code",
   "execution_count": null,
   "id": "6dd6a577-a6c8-4ec9-943f-6b3b84b77b86",
   "metadata": {},
   "outputs": [],
   "source": []
  },
  {
   "cell_type": "code",
   "execution_count": null,
   "id": "6012eec8-f706-47d2-8688-f105487cc0f2",
   "metadata": {},
   "outputs": [],
   "source": []
  },
  {
   "cell_type": "code",
   "execution_count": null,
   "id": "81f73d0c-d71e-4eb9-a594-eb290b598bb5",
   "metadata": {},
   "outputs": [],
   "source": []
  }
 ],
 "metadata": {
  "kernelspec": {
   "display_name": "Python 3 (ipykernel)",
   "language": "python",
   "name": "python3"
  },
  "language_info": {
   "codemirror_mode": {
    "name": "ipython",
    "version": 3
   },
   "file_extension": ".py",
   "mimetype": "text/x-python",
   "name": "python",
   "nbconvert_exporter": "python",
   "pygments_lexer": "ipython3",
   "version": "3.10.4"
  }
 },
 "nbformat": 4,
 "nbformat_minor": 5
}
